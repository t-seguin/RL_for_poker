{
 "cells": [
  {
   "cell_type": "code",
   "execution_count": 200,
   "metadata": {},
   "outputs": [
    {
     "name": "stdout",
     "output_type": "stream",
     "text": [
      "The autoreload extension is already loaded. To reload it, use:\n",
      "  %reload_ext autoreload\n"
     ]
    }
   ],
   "source": [
    "%load_ext autoreload\n",
    "%autoreload 2\n",
    "from game_structure import *"
   ]
  },
  {
   "cell_type": "code",
   "execution_count": 201,
   "metadata": {},
   "outputs": [
    {
     "name": "stdout",
     "output_type": "stream",
     "text": [
      "\n",
      "==================================================\n",
      "Game: test\n",
      "Hand #: 0\n",
      "Stage: Pre-flop\n",
      "Pot: 0\n",
      "Current Bet: 0\n",
      "\n",
      "Board: No cards\n",
      "\n",
      "Players:\n",
      "==================================================\n",
      "\n"
     ]
    }
   ],
   "source": [
    "table = Table()\n",
    "\n",
    "game_test = Game(table, 'test')\n",
    "\n",
    "print(game_test)"
   ]
  },
  {
   "cell_type": "code",
   "execution_count": 202,
   "metadata": {},
   "outputs": [
    {
     "name": "stdout",
     "output_type": "stream",
     "text": [
      "\n",
      "==================================================\n",
      "Game: test\n",
      "Hand #: 0\n",
      "Stage: Pre-flop\n",
      "Pot: 0\n",
      "Current Bet: 0\n",
      "\n",
      "Board: No cards\n",
      "\n",
      "Players:\n",
      "   theo            [BTN]   Chips: 100    Cards: [XX] [XX]    Status: ACTIVE\n",
      "   catalina        [SB]    Chips: 100    Cards: [XX] [XX]    Status: ACTIVE\n",
      "   alex            [BB]    Chips: 100    Cards: [XX] [XX]    Status: ACTIVE\n",
      "   bob             [UTG]   Chips: 100    Cards: [XX] [XX]    Status: ACTIVE\n",
      "   charlie         [UTG+1] Chips: 100    Cards: [XX] [XX]    Status: ACTIVE\n",
      "   daniel          [UTG+2] Chips: 100    Cards: [XX] [XX]    Status: ACTIVE\n",
      "   edgard          [LJ]    Chips: 100    Cards: [XX] [XX]    Status: ACTIVE\n",
      "   fernand         [HJ]    Chips: 100    Cards: [XX] [XX]    Status: ACTIVE\n",
      "   gerard          [CO]    Chips: 100    Cards: [XX] [XX]    Status: ACTIVE\n",
      "==================================================\n",
      "\n"
     ]
    }
   ],
   "source": [
    "table.add_player(Player('theo', 100))\n",
    "table.add_player(Player('catalina', 100))\n",
    "table.add_player(Player('alex', 100))\n",
    "table.add_player(Player('bob', 100))\n",
    "table.add_player(Player('charlie', 100))\n",
    "table.add_player(Player('daniel', 100))\n",
    "table.add_player(Player('edgard', 100))\n",
    "table.add_player(Player('fernand', 100))\n",
    "table.add_player(Player('gerard', 100))\n",
    "\n",
    "print(game_test)\n"
   ]
  },
  {
   "cell_type": "code",
   "execution_count": 203,
   "metadata": {},
   "outputs": [
    {
     "name": "stdout",
     "output_type": "stream",
     "text": [
      "\n",
      "==================================================\n",
      "Game: test\n",
      "Hand #: 0\n",
      "Stage: Pre-flop\n",
      "Pot: 3\n",
      "Current Bet: 2\n",
      "\n",
      "Board: No cards\n",
      "\n",
      "Players:\n",
      "   theo            [BTN]   Chips: 100    Cards: [2♠]  [Q♥]   Status: ACTIVE\n",
      "   catalina        [SB]    Chips: 99     Cards: [A♣]  [8♦]   Status: ACTIVE\n",
      "   alex            [BB]    Chips: 98     Cards: [4♣]  [8♣]   Status: ACTIVE\n",
      "-> bob             [UTG]   Chips: 100    Cards: [K♥]  [9♠]   Status: ACTIVE\n",
      "   charlie         [UTG+1] Chips: 100    Cards: [10♦] [K♣]   Status: ACTIVE\n",
      "   daniel          [UTG+2] Chips: 100    Cards: [J♣]  [3♠]   Status: ACTIVE\n",
      "   edgard          [LJ]    Chips: 100    Cards: [2♣]  [5♠]   Status: ACTIVE\n",
      "   fernand         [HJ]    Chips: 100    Cards: [2♥]  [5♦]   Status: ACTIVE\n",
      "   gerard          [CO]    Chips: 100    Cards: [4♦]  [A♦]   Status: ACTIVE\n",
      "==================================================\n",
      "\n"
     ]
    }
   ],
   "source": [
    "game_test.start_game(rotate_positions=False)\n",
    "\n",
    "print(game_test)"
   ]
  },
  {
   "cell_type": "code",
   "execution_count": 139,
   "metadata": {},
   "outputs": [
    {
     "name": "stdout",
     "output_type": "stream",
     "text": [
      "\n",
      "==================================================\n",
      "Game: test\n",
      "Hand #: 0\n",
      "Stage: Pre-flop\n",
      "Pot: 5\n",
      "Current Bet: 2\n",
      "\n",
      "Board: No cards\n",
      "\n",
      "Players:\n",
      "   theo            [BTN]  Chips: 98     Cards: [7♠] [Q♥]       Status: ACTIVE\n",
      "-> catalina        [SB]   Chips: 99     Cards: [A♠] [K♣]       Status: ACTIVE\n",
      "   alex            [BB]   Chips: 98     Cards: [2♣] [Q♠]       Status: ACTIVE\n",
      "==================================================\n",
      "\n"
     ]
    }
   ],
   "source": [
    "game_test.play(game_test.table.players[0], {'type': 'call'})  # Call the big blind\n",
    "print(game_test)"
   ]
  },
  {
   "cell_type": "code",
   "execution_count": 140,
   "metadata": {},
   "outputs": [
    {
     "name": "stdout",
     "output_type": "stream",
     "text": [
      "\n",
      "==================================================\n",
      "Game: test\n",
      "Hand #: 0\n",
      "Stage: Pre-flop\n",
      "Pot: 14\n",
      "Current Bet: 10\n",
      "\n",
      "Board: No cards\n",
      "\n",
      "Players:\n",
      "   theo            [BTN]  Chips: 98     Cards: [7♠] [Q♥]       Status: ACTIVE\n",
      "   catalina        [SB]   Chips: 90     Cards: [A♠] [K♣]       Status: ACTIVE\n",
      "-> alex            [BB]   Chips: 98     Cards: [2♣] [Q♠]       Status: ACTIVE\n",
      "==================================================\n",
      "\n"
     ]
    }
   ],
   "source": [
    "\n",
    "game_test.play(game_test.table.players[1], {'type': 'raise', 'amount': 10})  # Raise by 10\n",
    "\n",
    "print(game_test)"
   ]
  },
  {
   "cell_type": "code",
   "execution_count": 141,
   "metadata": {},
   "outputs": [
    {
     "name": "stdout",
     "output_type": "stream",
     "text": [
      "\n",
      "==================================================\n",
      "Game: test\n",
      "Hand #: 0\n",
      "Stage: Pre-flop\n",
      "Pot: 22\n",
      "Current Bet: 10\n",
      "\n",
      "Board: No cards\n",
      "\n",
      "Players:\n",
      "-> theo            [BTN]  Chips: 98     Cards: [7♠] [Q♥]       Status: ACTIVE\n",
      "   catalina        [SB]   Chips: 90     Cards: [A♠] [K♣]       Status: ACTIVE\n",
      "   alex            [BB]   Chips: 90     Cards: [2♣] [Q♠]       Status: ACTIVE\n",
      "==================================================\n",
      "\n"
     ]
    }
   ],
   "source": [
    "game_test.play(game_test.table.players[2], {'type': 'call'})\n",
    "\n",
    "print(game_test)"
   ]
  },
  {
   "cell_type": "code",
   "execution_count": 142,
   "metadata": {},
   "outputs": [
    {
     "name": "stdout",
     "output_type": "stream",
     "text": [
      "\n",
      "==================================================\n",
      "Game: test\n",
      "Hand #: 0\n",
      "Stage: Flop\n",
      "Pot: 30\n",
      "Current Bet: 0\n",
      "\n",
      "Board: 4♠ 8♥ 3♠\n",
      "\n",
      "Players:\n",
      "   theo            [BTN]  Chips: 90     Cards: [7♠] [Q♥]       Status: ACTIVE\n",
      "-> catalina        [SB]   Chips: 90     Cards: [A♠] [K♣]       Status: ACTIVE\n",
      "   alex            [BB]   Chips: 90     Cards: [2♣] [Q♠]       Status: ACTIVE\n",
      "==================================================\n",
      "\n",
      "1\n"
     ]
    }
   ],
   "source": [
    "game_test.play(game_test.table.players[0], {'type': 'call'})\n",
    "\n",
    "print(game_test)\n",
    "print(game_test.current_player)"
   ]
  },
  {
   "cell_type": "code",
   "execution_count": 143,
   "metadata": {},
   "outputs": [
    {
     "name": "stdout",
     "output_type": "stream",
     "text": [
      "\n",
      "==================================================\n",
      "Game: test\n",
      "Hand #: 0\n",
      "Stage: Flop\n",
      "Pot: 30\n",
      "Current Bet: 0\n",
      "\n",
      "Board: 4♠ 8♥ 3♠\n",
      "\n",
      "Players:\n",
      "   theo            [BTN]  Chips: 90     Cards: [7♠] [Q♥]       Status: ACTIVE\n",
      "   catalina        [SB]   Chips: 90     Cards: [A♠] [K♣]       Status: FOLDED\n",
      "-> alex            [BB]   Chips: 90     Cards: [2♣] [Q♠]       Status: ACTIVE\n",
      "==================================================\n",
      "\n",
      "2\n"
     ]
    }
   ],
   "source": [
    "game_test.play(game_test.table.players[1], {'type': 'fold'})\n",
    "print(game_test)\n",
    "print(game_test.current_player)"
   ]
  },
  {
   "cell_type": "code",
   "execution_count": 144,
   "metadata": {},
   "outputs": [
    {
     "name": "stdout",
     "output_type": "stream",
     "text": [
      "\n",
      "==================================================\n",
      "Game: test\n",
      "Hand #: 0\n",
      "Stage: Flop\n",
      "Pot: 30\n",
      "Current Bet: 0\n",
      "\n",
      "Board: 4♠ 8♥ 3♠\n",
      "\n",
      "Players:\n",
      "-> theo            [BTN]  Chips: 90     Cards: [7♠] [Q♥]       Status: ACTIVE\n",
      "   catalina        [SB]   Chips: 90     Cards: [A♠] [K♣]       Status: FOLDED\n",
      "   alex            [BB]   Chips: 90     Cards: [2♣] [Q♠]       Status: ACTIVE\n",
      "==================================================\n",
      "\n"
     ]
    }
   ],
   "source": [
    "game_test.play(game_test.table.players[2], {'type': 'check'})\n",
    "print(game_test)\n"
   ]
  },
  {
   "cell_type": "code",
   "execution_count": 25,
   "metadata": {},
   "outputs": [
    {
     "name": "stdout",
     "output_type": "stream",
     "text": [
      "\n",
      "==================================================\n",
      "Game: test\n",
      "Hand #: 0\n",
      "Stage: River\n",
      "Pot: 0\n",
      "Current Bet: 0\n",
      "\n",
      "Board: K♣ 2♦ 2♥ 8♣ 7♠\n",
      "\n",
      "Players:\n",
      "   theo            [BTN]  Chips: 90     Cards: [J♦] [J♥]       Status: ACTIVE\n",
      "   catalina        [SB]   Chips: 90     Cards: [6♥] [6♠]       Status: FOLDED\n",
      "-> alex            [BB]   Chips: 120    Cards: [K♦] [J♣]       Status: ACTIVE\n",
      "==================================================\n",
      "\n"
     ]
    }
   ],
   "source": [
    "\n",
    "game_test.play(game_test.table.players[0], {'type': 'check'})\n",
    "print(game_test)\n"
   ]
  },
  {
   "cell_type": "code",
   "execution_count": 134,
   "metadata": {},
   "outputs": [
    {
     "name": "stdout",
     "output_type": "stream",
     "text": [
      "\n",
      "==================================================\n",
      "Game: test\n",
      "Hand #: 109\n",
      "Stage: Pre-flop\n",
      "Pot: 3\n",
      "Current Bet: 2\n",
      "\n",
      "Board: No cards\n",
      "\n",
      "Players:\n",
      "   theo            [SB]   Chips: -20    Cards: [J♥] [6♦]       Status: ACTIVE\n",
      "   catalina        [BB]   Chips: -54    Cards: [K♠] [Q♠]       Status: ACTIVE\n",
      "-> alex            [BTN]  Chips: 47     Cards: [J♣] [A♣]       Status: ACTIVE\n",
      "==================================================\n",
      "\n"
     ]
    }
   ],
   "source": [
    "game_test.new_hand()\n",
    "print(game_test)"
   ]
  },
  {
   "cell_type": "code",
   "execution_count": 14,
   "metadata": {},
   "outputs": [
    {
     "name": "stdout",
     "output_type": "stream",
     "text": [
      "\n",
      "==================================================\n",
      "Game: test\n",
      "Hand #: 0\n",
      "Stage: River\n",
      "Pot: 30\n",
      "Current Bet: 0\n",
      "\n",
      "Board: K♣ 2♦ 2♥ 8♣ 7♠\n",
      "\n",
      "Players:\n",
      "-> theo            [BTN]  Chips: 90     Cards: [J♦] [J♥]       Status: ACTIVE\n",
      "   catalina        [SB]   Chips: 90     Cards: [6♥] [6♠]       Status: FOLDED\n",
      "   alex            [BB]   Chips: 90     Cards: [K♦] [J♣]       Status: ACTIVE\n",
      "==================================================\n",
      "\n"
     ]
    }
   ],
   "source": [
    "\n",
    "game_test.play(game_test.table.players[2], {'type': 'check'})\n",
    "print(game_test)"
   ]
  },
  {
   "cell_type": "code",
   "execution_count": 27,
   "metadata": {},
   "outputs": [
    {
     "name": "stdout",
     "output_type": "stream",
     "text": [
      "\n",
      "==================================================\n",
      "Game: test\n",
      "Hand #: 0\n",
      "Stage: Flop\n",
      "Pot: 22\n",
      "Current Bet: 0\n",
      "\n",
      "Board: 9♥ 10♣ 6♠\n",
      "\n",
      "Players:\n",
      "   theo            [BTN]  Chips: 98     Cards: [A♥] [5♦]       Status: ACTIVE\n",
      "-> catalina        [SB]   Chips: 90     Cards: [3♠] [K♥]       Status: ACTIVE\n",
      "   alex            [BB]   Chips: 90     Cards: [9♠] [9♦]       Status: ACTIVE\n",
      "==================================================\n",
      "\n"
     ]
    }
   ],
   "source": [
    "print(game_test)"
   ]
  },
  {
   "cell_type": "code",
   "execution_count": 29,
   "metadata": {},
   "outputs": [
    {
     "name": "stdout",
     "output_type": "stream",
     "text": [
      "\n",
      "==================================================\n",
      "Game: test\n",
      "Hand #: 0\n",
      "Stage: Flop\n",
      "Pot: 22\n",
      "Current Bet: 0\n",
      "\n",
      "Board: 9♥ 10♣ 6♠\n",
      "\n",
      "Players:\n",
      "   theo            [BTN]  Chips: 98     Cards: [A♥] [5♦]       Status: ACTIVE\n",
      "-> catalina        [SB]   Chips: 90     Cards: [3♠] [K♥]       Status: ACTIVE\n",
      "   alex            [BB]   Chips: 90     Cards: [9♠] [9♦]       Status: ACTIVE\n",
      "==================================================\n",
      "\n"
     ]
    }
   ],
   "source": [
    "game_test.play(game_test.table.players[1], {'type': 'check'})\n",
    "game_test.play(game_test.table.players[2], {'type': 'check'})\n",
    "game_test.play(game_test.table.players[0], {'type': 'check'})\n",
    "\n",
    "print(game_test)"
   ]
  }
 ],
 "metadata": {
  "kernelspec": {
   "display_name": ".venv",
   "language": "python",
   "name": "python3"
  },
  "language_info": {
   "codemirror_mode": {
    "name": "ipython",
    "version": 3
   },
   "file_extension": ".py",
   "mimetype": "text/x-python",
   "name": "python",
   "nbconvert_exporter": "python",
   "pygments_lexer": "ipython3",
   "version": "3.10.12"
  }
 },
 "nbformat": 4,
 "nbformat_minor": 2
}
