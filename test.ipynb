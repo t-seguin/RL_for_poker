{
 "cells": [
  {
   "cell_type": "code",
   "execution_count": 1,
   "metadata": {},
   "outputs": [],
   "source": [
    "from game_structure import *"
   ]
  },
  {
   "cell_type": "code",
   "execution_count": 2,
   "metadata": {},
   "outputs": [
    {
     "name": "stdout",
     "output_type": "stream",
     "text": [
      "\n",
      "==================================================\n",
      "Game: test\n",
      "Hand #: 0\n",
      "Stage: Pre-flop\n",
      "Pot: 0\n",
      "Current Bet: 0\n",
      "\n",
      "Board: No cards\n",
      "\n",
      "Players:\n",
      "==================================================\n",
      "\n"
     ]
    }
   ],
   "source": [
    "game_test = Game('test')\n",
    "\n",
    "print(game_test)"
   ]
  },
  {
   "cell_type": "code",
   "execution_count": 3,
   "metadata": {},
   "outputs": [
    {
     "name": "stdout",
     "output_type": "stream",
     "text": [
      "\n",
      "==================================================\n",
      "Game: test\n",
      "Hand #: 0\n",
      "Stage: Pre-flop\n",
      "Pot: 0\n",
      "Current Bet: 0\n",
      "\n",
      "Board: No cards\n",
      "\n",
      "Players:\n",
      "theo [BTN]: Chips: 100 Cards: XX XX Status: ACTIVE\n",
      "catalina [SB]: Chips: 100 Cards: XX XX Status: ACTIVE\n",
      "alex [BB]: Chips: 100 Cards: XX XX Status: ACTIVE\n",
      "==================================================\n",
      "\n"
     ]
    }
   ],
   "source": [
    "game_test.add_player(Player('theo', 100))\n",
    "game_test.add_player(Player('catalina', 100))\n",
    "game_test.add_player(Player('alex', 100))\n",
    "\n",
    "print(game_test)\n"
   ]
  },
  {
   "cell_type": "code",
   "execution_count": 4,
   "metadata": {},
   "outputs": [
    {
     "name": "stdout",
     "output_type": "stream",
     "text": [
      "\n",
      "==================================================\n",
      "Game: test\n",
      "Hand #: 0\n",
      "Stage: Pre-flop\n",
      "Pot: 3\n",
      "Current Bet: 2\n",
      "\n",
      "Board: No cards\n",
      "\n",
      "Players:\n",
      "theo [SB]: Chips: 99 Cards: 2 of hearts 8 of hearts Status: ACTIVE\n",
      "catalina [BB]: Chips: 98 Cards: 2 of spades 4 of clubs Status: ACTIVE\n",
      "-> alex [BTN]: Chips: 100 Cards: 7 of clubs 6 of diamonds Status: ACTIVE\n",
      "==================================================\n",
      "\n"
     ]
    }
   ],
   "source": [
    "game_test.initialize_game(rotate_positions=False)\n",
    "\n",
    "print(game_test)"
   ]
  },
  {
   "cell_type": "code",
   "execution_count": 7,
   "metadata": {},
   "outputs": [
    {
     "name": "stdout",
     "output_type": "stream",
     "text": [
      "\n",
      "==================================================\n",
      "Game: test\n",
      "Hand #: 0\n",
      "Stage: Pre-flop\n",
      "Pot: 5\n",
      "Current Bet: 2\n",
      "\n",
      "Board: No cards\n",
      "\n",
      "Players:\n",
      "-> theo [SB]: Chips: 99 Cards: 2 of hearts 8 of hearts Status: ACTIVE\n",
      "catalina [BB]: Chips: 98 Cards: 2 of spades 4 of clubs Status: ACTIVE\n",
      "alex [BTN]: Chips: 98 Cards: 7 of clubs 6 of diamonds Status: ACTIVE\n",
      "==================================================\n",
      "\n"
     ]
    }
   ],
   "source": [
    "\n",
    "game_test.play(game_test.players[2], {'type': 'call'})  # Call the big blind\n",
    "print(game_test)"
   ]
  },
  {
   "cell_type": "code",
   "execution_count": 8,
   "metadata": {},
   "outputs": [
    {
     "name": "stdout",
     "output_type": "stream",
     "text": [
      "\n",
      "==================================================\n",
      "Game: test\n",
      "Hand #: 0\n",
      "Stage: Pre-flop\n",
      "Pot: 14\n",
      "Current Bet: 10\n",
      "\n",
      "Board: No cards\n",
      "\n",
      "Players:\n",
      "theo [SB]: Chips: 90 Cards: 2 of hearts 8 of hearts Status: ACTIVE\n",
      "-> catalina [BB]: Chips: 98 Cards: 2 of spades 4 of clubs Status: ACTIVE\n",
      "alex [BTN]: Chips: 98 Cards: 7 of clubs 6 of diamonds Status: ACTIVE\n",
      "==================================================\n",
      "\n"
     ]
    }
   ],
   "source": [
    "\n",
    "game_test.play(game_test.players[0], {'type': 'raise', 'amount': 10})  # Raise by 10\n",
    "\n",
    "print(game_test)"
   ]
  },
  {
   "cell_type": "code",
   "execution_count": 9,
   "metadata": {},
   "outputs": [
    {
     "name": "stdout",
     "output_type": "stream",
     "text": [
      "\n",
      "==================================================\n",
      "Game: test\n",
      "Hand #: 0\n",
      "Stage: Pre-flop\n",
      "Pot: 14\n",
      "Current Bet: 10\n",
      "\n",
      "Board: No cards\n",
      "\n",
      "Players:\n",
      "theo [SB]: Chips: 90 Cards: 2 of hearts 8 of hearts Status: ACTIVE\n",
      "catalina [BB]: Chips: 98 Cards: 2 of spades 4 of clubs Status: FOLDED\n",
      "-> alex [BTN]: Chips: 98 Cards: 7 of clubs 6 of diamonds Status: ACTIVE\n",
      "==================================================\n",
      "\n"
     ]
    }
   ],
   "source": [
    "game_test.play(game_test.players[1], {'type': 'fold'})\n",
    "\n",
    "print(game_test)"
   ]
  },
  {
   "cell_type": "code",
   "execution_count": 10,
   "metadata": {},
   "outputs": [
    {
     "name": "stdout",
     "output_type": "stream",
     "text": [
      "\n",
      "==================================================\n",
      "Game: test\n",
      "Hand #: 0\n",
      "Stage: Pre-flop\n",
      "Pot: 14\n",
      "Current Bet: 10\n",
      "\n",
      "Board: No cards\n",
      "\n",
      "Players:\n",
      "-> theo [SB]: Chips: 90 Cards: 2 of hearts 8 of hearts Status: ACTIVE\n",
      "catalina [BB]: Chips: 98 Cards: 2 of spades 4 of clubs Status: FOLDED\n",
      "alex [BTN]: Chips: 98 Cards: 7 of clubs 6 of diamonds Status: FOLDED\n",
      "==================================================\n",
      "\n"
     ]
    }
   ],
   "source": [
    "game_test.play(game_test.players[2], {'type': 'fold'})\n",
    "\n",
    "print(game_test)"
   ]
  },
  {
   "cell_type": "code",
   "execution_count": null,
   "metadata": {},
   "outputs": [],
   "source": []
  }
 ],
 "metadata": {
  "kernelspec": {
   "display_name": ".venv",
   "language": "python",
   "name": "python3"
  },
  "language_info": {
   "codemirror_mode": {
    "name": "ipython",
    "version": 3
   },
   "file_extension": ".py",
   "mimetype": "text/x-python",
   "name": "python",
   "nbconvert_exporter": "python",
   "pygments_lexer": "ipython3",
   "version": "3.10.12"
  }
 },
 "nbformat": 4,
 "nbformat_minor": 2
}
